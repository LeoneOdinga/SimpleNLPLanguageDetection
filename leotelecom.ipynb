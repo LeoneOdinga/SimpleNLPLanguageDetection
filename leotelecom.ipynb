{
  "nbformat": 4,
  "nbformat_minor": 0,
  "metadata": {
    "colab": {
      "provenance": []
    },
    "kernelspec": {
      "name": "python3",
      "display_name": "Python 3"
    },
    "language_info": {
      "name": "python"
    }
  },
  "cells": [
    {
      "cell_type": "code",
      "execution_count": 35,
      "metadata": {
        "colab": {
          "base_uri": "https://localhost:8080/",
          "height": 206
        },
        "id": "mIGTzZsBzZM0",
        "outputId": "2c8a0eb1-cab0-4a62-ac32-f727aa830602"
      },
      "outputs": [
        {
          "output_type": "execute_result",
          "data": {
            "text/plain": [
              "                                                Text   Language\n",
              "0  Vikipedi'ye yazılan bilgilerin uygunluğu konus...    Turkish\n",
              "1  В отличие от традиционных энциклопедий, таких,...    Russian\n",
              "2  في المقابلة نفسها، زعم ويلز أيضًا أن عدد المحر...     Arabic\n",
              "3  Svenskspråkiga Wikipedia var dock i stort sett...   Sweedish\n",
              "4     അതിനാൽ നിങ്ങൾ യാത്ര ആരംഭിക്കാൻ പോകുകയാണെങ്കിൽ.  Malayalam"
            ],
            "text/html": [
              "\n",
              "\n",
              "  <div id=\"df-6c1868dd-2318-49a6-9841-d401b55fbd67\">\n",
              "    <div class=\"colab-df-container\">\n",
              "      <div>\n",
              "<style scoped>\n",
              "    .dataframe tbody tr th:only-of-type {\n",
              "        vertical-align: middle;\n",
              "    }\n",
              "\n",
              "    .dataframe tbody tr th {\n",
              "        vertical-align: top;\n",
              "    }\n",
              "\n",
              "    .dataframe thead th {\n",
              "        text-align: right;\n",
              "    }\n",
              "</style>\n",
              "<table border=\"1\" class=\"dataframe\">\n",
              "  <thead>\n",
              "    <tr style=\"text-align: right;\">\n",
              "      <th></th>\n",
              "      <th>Text</th>\n",
              "      <th>Language</th>\n",
              "    </tr>\n",
              "  </thead>\n",
              "  <tbody>\n",
              "    <tr>\n",
              "      <th>0</th>\n",
              "      <td>Vikipedi'ye yazılan bilgilerin uygunluğu konus...</td>\n",
              "      <td>Turkish</td>\n",
              "    </tr>\n",
              "    <tr>\n",
              "      <th>1</th>\n",
              "      <td>В отличие от традиционных энциклопедий, таких,...</td>\n",
              "      <td>Russian</td>\n",
              "    </tr>\n",
              "    <tr>\n",
              "      <th>2</th>\n",
              "      <td>في المقابلة نفسها، زعم ويلز أيضًا أن عدد المحر...</td>\n",
              "      <td>Arabic</td>\n",
              "    </tr>\n",
              "    <tr>\n",
              "      <th>3</th>\n",
              "      <td>Svenskspråkiga Wikipedia var dock i stort sett...</td>\n",
              "      <td>Sweedish</td>\n",
              "    </tr>\n",
              "    <tr>\n",
              "      <th>4</th>\n",
              "      <td>അതിനാൽ നിങ്ങൾ യാത്ര ആരംഭിക്കാൻ പോകുകയാണെങ്കിൽ.</td>\n",
              "      <td>Malayalam</td>\n",
              "    </tr>\n",
              "  </tbody>\n",
              "</table>\n",
              "</div>\n",
              "      <button class=\"colab-df-convert\" onclick=\"convertToInteractive('df-6c1868dd-2318-49a6-9841-d401b55fbd67')\"\n",
              "              title=\"Convert this dataframe to an interactive table.\"\n",
              "              style=\"display:none;\">\n",
              "\n",
              "  <svg xmlns=\"http://www.w3.org/2000/svg\" height=\"24px\"viewBox=\"0 0 24 24\"\n",
              "       width=\"24px\">\n",
              "    <path d=\"M0 0h24v24H0V0z\" fill=\"none\"/>\n",
              "    <path d=\"M18.56 5.44l.94 2.06.94-2.06 2.06-.94-2.06-.94-.94-2.06-.94 2.06-2.06.94zm-11 1L8.5 8.5l.94-2.06 2.06-.94-2.06-.94L8.5 2.5l-.94 2.06-2.06.94zm10 10l.94 2.06.94-2.06 2.06-.94-2.06-.94-.94-2.06-.94 2.06-2.06.94z\"/><path d=\"M17.41 7.96l-1.37-1.37c-.4-.4-.92-.59-1.43-.59-.52 0-1.04.2-1.43.59L10.3 9.45l-7.72 7.72c-.78.78-.78 2.05 0 2.83L4 21.41c.39.39.9.59 1.41.59.51 0 1.02-.2 1.41-.59l7.78-7.78 2.81-2.81c.8-.78.8-2.07 0-2.86zM5.41 20L4 18.59l7.72-7.72 1.47 1.35L5.41 20z\"/>\n",
              "  </svg>\n",
              "      </button>\n",
              "\n",
              "\n",
              "\n",
              "    <div id=\"df-4cb5a033-91f2-4ba4-88b1-0dd97891e060\">\n",
              "      <button class=\"colab-df-quickchart\" onclick=\"quickchart('df-4cb5a033-91f2-4ba4-88b1-0dd97891e060')\"\n",
              "              title=\"Suggest charts.\"\n",
              "              style=\"display:none;\">\n",
              "\n",
              "<svg xmlns=\"http://www.w3.org/2000/svg\" height=\"24px\"viewBox=\"0 0 24 24\"\n",
              "     width=\"24px\">\n",
              "    <g>\n",
              "        <path d=\"M19 3H5c-1.1 0-2 .9-2 2v14c0 1.1.9 2 2 2h14c1.1 0 2-.9 2-2V5c0-1.1-.9-2-2-2zM9 17H7v-7h2v7zm4 0h-2V7h2v10zm4 0h-2v-4h2v4z\"/>\n",
              "    </g>\n",
              "</svg>\n",
              "      </button>\n",
              "    </div>\n",
              "\n",
              "<style>\n",
              "  .colab-df-quickchart {\n",
              "    background-color: #E8F0FE;\n",
              "    border: none;\n",
              "    border-radius: 50%;\n",
              "    cursor: pointer;\n",
              "    display: none;\n",
              "    fill: #1967D2;\n",
              "    height: 32px;\n",
              "    padding: 0 0 0 0;\n",
              "    width: 32px;\n",
              "  }\n",
              "\n",
              "  .colab-df-quickchart:hover {\n",
              "    background-color: #E2EBFA;\n",
              "    box-shadow: 0px 1px 2px rgba(60, 64, 67, 0.3), 0px 1px 3px 1px rgba(60, 64, 67, 0.15);\n",
              "    fill: #174EA6;\n",
              "  }\n",
              "\n",
              "  [theme=dark] .colab-df-quickchart {\n",
              "    background-color: #3B4455;\n",
              "    fill: #D2E3FC;\n",
              "  }\n",
              "\n",
              "  [theme=dark] .colab-df-quickchart:hover {\n",
              "    background-color: #434B5C;\n",
              "    box-shadow: 0px 1px 3px 1px rgba(0, 0, 0, 0.15);\n",
              "    filter: drop-shadow(0px 1px 2px rgba(0, 0, 0, 0.3));\n",
              "    fill: #FFFFFF;\n",
              "  }\n",
              "</style>\n",
              "\n",
              "    <script>\n",
              "      async function quickchart(key) {\n",
              "        const containerElement = document.querySelector('#' + key);\n",
              "        const charts = await google.colab.kernel.invokeFunction(\n",
              "            'suggestCharts', [key], {});\n",
              "      }\n",
              "    </script>\n",
              "\n",
              "      <script>\n",
              "\n",
              "function displayQuickchartButton(domScope) {\n",
              "  let quickchartButtonEl =\n",
              "    domScope.querySelector('#df-4cb5a033-91f2-4ba4-88b1-0dd97891e060 button.colab-df-quickchart');\n",
              "  quickchartButtonEl.style.display =\n",
              "    google.colab.kernel.accessAllowed ? 'block' : 'none';\n",
              "}\n",
              "\n",
              "        displayQuickchartButton(document);\n",
              "      </script>\n",
              "      <style>\n",
              "    .colab-df-container {\n",
              "      display:flex;\n",
              "      flex-wrap:wrap;\n",
              "      gap: 12px;\n",
              "    }\n",
              "\n",
              "    .colab-df-convert {\n",
              "      background-color: #E8F0FE;\n",
              "      border: none;\n",
              "      border-radius: 50%;\n",
              "      cursor: pointer;\n",
              "      display: none;\n",
              "      fill: #1967D2;\n",
              "      height: 32px;\n",
              "      padding: 0 0 0 0;\n",
              "      width: 32px;\n",
              "    }\n",
              "\n",
              "    .colab-df-convert:hover {\n",
              "      background-color: #E2EBFA;\n",
              "      box-shadow: 0px 1px 2px rgba(60, 64, 67, 0.3), 0px 1px 3px 1px rgba(60, 64, 67, 0.15);\n",
              "      fill: #174EA6;\n",
              "    }\n",
              "\n",
              "    [theme=dark] .colab-df-convert {\n",
              "      background-color: #3B4455;\n",
              "      fill: #D2E3FC;\n",
              "    }\n",
              "\n",
              "    [theme=dark] .colab-df-convert:hover {\n",
              "      background-color: #434B5C;\n",
              "      box-shadow: 0px 1px 3px 1px rgba(0, 0, 0, 0.15);\n",
              "      filter: drop-shadow(0px 1px 2px rgba(0, 0, 0, 0.3));\n",
              "      fill: #FFFFFF;\n",
              "    }\n",
              "  </style>\n",
              "\n",
              "      <script>\n",
              "        const buttonEl =\n",
              "          document.querySelector('#df-6c1868dd-2318-49a6-9841-d401b55fbd67 button.colab-df-convert');\n",
              "        buttonEl.style.display =\n",
              "          google.colab.kernel.accessAllowed ? 'block' : 'none';\n",
              "\n",
              "        async function convertToInteractive(key) {\n",
              "          const element = document.querySelector('#df-6c1868dd-2318-49a6-9841-d401b55fbd67');\n",
              "          const dataTable =\n",
              "            await google.colab.kernel.invokeFunction('convertToInteractive',\n",
              "                                                     [key], {});\n",
              "          if (!dataTable) return;\n",
              "\n",
              "          const docLinkHtml = 'Like what you see? Visit the ' +\n",
              "            '<a target=\"_blank\" href=https://colab.research.google.com/notebooks/data_table.ipynb>data table notebook</a>'\n",
              "            + ' to learn more about interactive tables.';\n",
              "          element.innerHTML = '';\n",
              "          dataTable['output_type'] = 'display_data';\n",
              "          await google.colab.output.renderOutput(dataTable, element);\n",
              "          const docLink = document.createElement('div');\n",
              "          docLink.innerHTML = docLinkHtml;\n",
              "          element.appendChild(docLink);\n",
              "        }\n",
              "      </script>\n",
              "    </div>\n",
              "  </div>\n"
            ]
          },
          "metadata": {},
          "execution_count": 35
        }
      ],
      "source": [
        "# Import necessary libraries\n",
        "\n",
        "import pandas as pd\n",
        "import numpy as np\n",
        "import matplotlib.pyplot as plt\n",
        "from sklearn.model_selection import train_test_split as tts\n",
        "from sklearn.preprocessing import LabelEncoder\n",
        "from sklearn.metrics import confusion_matrix\n",
        "from keras.models import Sequential\n",
        "from keras.layers import Dense, Embedding\n",
        "from sklearn.feature_extraction.text import TfidfVectorizer\n",
        "\n",
        "#Load the dataset\n",
        "\n",
        "df = pd.read_csv('language.csv')\n",
        "df = df.sample(frac=1).reset_index(drop=True)\n",
        "df.head()\n"
      ]
    },
    {
      "cell_type": "markdown",
      "source": [
        "### Data Pre-Processing"
      ],
      "metadata": {
        "id": "LqvqzCO9Kdpn"
      }
    },
    {
      "cell_type": "code",
      "source": [
        "#eliminating nulls\n",
        "df = df.dropna()\n",
        "\n",
        "#to lowercase\n",
        "df[\"Text\"] = df[\"Text\"].str.lower()\n",
        "\n",
        "#eliminating @ symbol\n",
        "df[\"Text\"] = df[\"Text\"].str.replace(\"@\", \"\")\n",
        "\n",
        "#eliminating # symbol\n",
        "df[\"Text\"] = df[\"Text\"].str.replace(\"#\", \"\")\n",
        "\n",
        "#eliminating digits\n",
        "df[\"Text\"] = df[\"Text\"].str.replace(\"\\d\", \"\")\n",
        "\n",
        "#eliminating whitespaces\n",
        "df[\"Text\"] = df[\"Text\"].str.replace(\"\\s+\", \" \")"
      ],
      "metadata": {
        "colab": {
          "base_uri": "https://localhost:8080/"
        },
        "id": "btpv5bLVzvbO",
        "outputId": "64af96f2-9c3b-474a-8571-2e78d6e7e945"
      },
      "execution_count": 36,
      "outputs": [
        {
          "output_type": "stream",
          "name": "stderr",
          "text": [
            "<ipython-input-36-1051254dabe4>:5: SettingWithCopyWarning: \n",
            "A value is trying to be set on a copy of a slice from a DataFrame.\n",
            "Try using .loc[row_indexer,col_indexer] = value instead\n",
            "\n",
            "See the caveats in the documentation: https://pandas.pydata.org/pandas-docs/stable/user_guide/indexing.html#returning-a-view-versus-a-copy\n",
            "  df[\"Text\"] = df[\"Text\"].str.lower()\n",
            "<ipython-input-36-1051254dabe4>:8: SettingWithCopyWarning: \n",
            "A value is trying to be set on a copy of a slice from a DataFrame.\n",
            "Try using .loc[row_indexer,col_indexer] = value instead\n",
            "\n",
            "See the caveats in the documentation: https://pandas.pydata.org/pandas-docs/stable/user_guide/indexing.html#returning-a-view-versus-a-copy\n",
            "  df[\"Text\"] = df[\"Text\"].str.replace(\"@\", \"\")\n",
            "<ipython-input-36-1051254dabe4>:11: SettingWithCopyWarning: \n",
            "A value is trying to be set on a copy of a slice from a DataFrame.\n",
            "Try using .loc[row_indexer,col_indexer] = value instead\n",
            "\n",
            "See the caveats in the documentation: https://pandas.pydata.org/pandas-docs/stable/user_guide/indexing.html#returning-a-view-versus-a-copy\n",
            "  df[\"Text\"] = df[\"Text\"].str.replace(\"#\", \"\")\n",
            "<ipython-input-36-1051254dabe4>:14: FutureWarning: The default value of regex will change from True to False in a future version.\n",
            "  df[\"Text\"] = df[\"Text\"].str.replace(\"\\d\", \"\")\n",
            "<ipython-input-36-1051254dabe4>:14: SettingWithCopyWarning: \n",
            "A value is trying to be set on a copy of a slice from a DataFrame.\n",
            "Try using .loc[row_indexer,col_indexer] = value instead\n",
            "\n",
            "See the caveats in the documentation: https://pandas.pydata.org/pandas-docs/stable/user_guide/indexing.html#returning-a-view-versus-a-copy\n",
            "  df[\"Text\"] = df[\"Text\"].str.replace(\"\\d\", \"\")\n",
            "<ipython-input-36-1051254dabe4>:17: FutureWarning: The default value of regex will change from True to False in a future version.\n",
            "  df[\"Text\"] = df[\"Text\"].str.replace(\"\\s+\", \" \")\n"
          ]
        }
      ]
    },
    {
      "cell_type": "code",
      "source": [
        "df.info()"
      ],
      "metadata": {
        "colab": {
          "base_uri": "https://localhost:8080/"
        },
        "id": "8cLs_rNS0CZo",
        "outputId": "f8b7f7f0-249e-44f4-b582-2ee62b91629e"
      },
      "execution_count": 37,
      "outputs": [
        {
          "output_type": "stream",
          "name": "stdout",
          "text": [
            "<class 'pandas.core.frame.DataFrame'>\n",
            "Int64Index: 10237 entries, 0 to 10336\n",
            "Data columns (total 2 columns):\n",
            " #   Column    Non-Null Count  Dtype \n",
            "---  ------    --------------  ----- \n",
            " 0   Text      10237 non-null  object\n",
            " 1   Language  10237 non-null  object\n",
            "dtypes: object(2)\n",
            "memory usage: 239.9+ KB\n"
          ]
        }
      ]
    },
    {
      "cell_type": "markdown",
      "source": [
        "### Feature Extraction"
      ],
      "metadata": {
        "id": "OxcN2XkTKp-u"
      }
    },
    {
      "cell_type": "code",
      "source": [
        "# FEATURE EXTRACTION USING TF-IDF\n",
        "\n",
        "# TF-IDF vectorizer object\n",
        "vectorizer = TfidfVectorizer(max_features=9500)\n",
        "\n",
        "# Apply the vectorizer to the text\n",
        "X = vectorizer.fit_transform(df['Text']).toarray()\n",
        "\n",
        "# Perform Label Encoding\n",
        "label_encoder = LabelEncoder()\n",
        "y = label_encoder.fit_transform(df['Language'])\n"
      ],
      "metadata": {
        "id": "LIe9lyMU0P3S"
      },
      "execution_count": 43,
      "outputs": []
    },
    {
      "cell_type": "code",
      "source": [
        "# Split the dataset into training set and testing set\n",
        "X_train, X_test, y_train, y_test = tts(X, y, test_size=0.2, random_state=42)"
      ],
      "metadata": {
        "id": "Y_kh3NTeGKAJ"
      },
      "execution_count": 44,
      "outputs": []
    },
    {
      "cell_type": "code",
      "source": [
        "# Retrieve initial labels for languages\n",
        "language_names = label_encoder.classes_\n",
        "print(language_names)"
      ],
      "metadata": {
        "colab": {
          "base_uri": "https://localhost:8080/"
        },
        "id": "nuN9T58W2Y4O",
        "outputId": "90ca06f0-2f9b-4bbc-cc18-786d0a7abc43"
      },
      "execution_count": 45,
      "outputs": [
        {
          "output_type": "stream",
          "name": "stdout",
          "text": [
            "['Arabic' 'Danish' 'Dutch' 'English' 'French' 'German' 'Greek' 'Hindi'\n",
            " 'Italian' 'Kannada' 'Malayalam' 'Portugeese' 'Russian' 'Spanish'\n",
            " 'Sweedish' 'Tamil' 'Turkish']\n"
          ]
        }
      ]
    },
    {
      "cell_type": "markdown",
      "source": [
        "### Building the ANN Model"
      ],
      "metadata": {
        "id": "OtBhTPaiagIw"
      }
    },
    {
      "cell_type": "code",
      "source": [
        "model = Sequential()\n",
        "\n",
        "# input layer\n",
        "model.add(Dense(64, input_dim=X_train.shape[1], activation='relu'))\n",
        "\n",
        "# 1st hidden layer\n",
        "model.add(Dense(32, activation='relu'))\n",
        "\n",
        "#2nd hidden layer\n",
        "model.add(Dense(16, activation='relu'))\n",
        "\n",
        "# output layer\n",
        "model.add(Dense(len(label_encoder.classes_), activation='softmax'))\n",
        "\n",
        "# Compile the model\n",
        "model.compile(loss='sparse_categorical_crossentropy', optimizer='adam', metrics=['accuracy'])\n",
        "\n",
        "# Train the model\n",
        "history = model.fit(X_train, y_train, validation_data=(X_test, y_test), epochs=40, batch_size=32)\n"
      ],
      "metadata": {
        "colab": {
          "base_uri": "https://localhost:8080/"
        },
        "id": "bBZEuGaJ0Gw6",
        "outputId": "fbadea75-a80c-4ded-8686-04e38228a84f"
      },
      "execution_count": 59,
      "outputs": [
        {
          "output_type": "stream",
          "name": "stdout",
          "text": [
            "Epoch 1/40\n",
            "256/256 [==============================] - 6s 18ms/step - loss: 1.5586 - accuracy: 0.5614 - val_loss: 0.3482 - val_accuracy: 0.9536\n",
            "Epoch 2/40\n",
            "256/256 [==============================] - 3s 13ms/step - loss: 0.1876 - accuracy: 0.9648 - val_loss: 0.1592 - val_accuracy: 0.9619\n",
            "Epoch 3/40\n",
            "256/256 [==============================] - 3s 13ms/step - loss: 0.0927 - accuracy: 0.9785 - val_loss: 0.1283 - val_accuracy: 0.9673\n",
            "Epoch 4/40\n",
            "256/256 [==============================] - 4s 15ms/step - loss: 0.0713 - accuracy: 0.9805 - val_loss: 0.1136 - val_accuracy: 0.9717\n",
            "Epoch 5/40\n",
            "256/256 [==============================] - 3s 13ms/step - loss: 0.0654 - accuracy: 0.9816 - val_loss: 0.1148 - val_accuracy: 0.9707\n",
            "Epoch 6/40\n",
            "256/256 [==============================] - 4s 14ms/step - loss: 0.0638 - accuracy: 0.9807 - val_loss: 0.1285 - val_accuracy: 0.9644\n",
            "Epoch 7/40\n",
            "256/256 [==============================] - 3s 13ms/step - loss: 0.0609 - accuracy: 0.9812 - val_loss: 0.1183 - val_accuracy: 0.9683\n",
            "Epoch 8/40\n",
            "256/256 [==============================] - 4s 17ms/step - loss: 0.0616 - accuracy: 0.9814 - val_loss: 0.1191 - val_accuracy: 0.9692\n",
            "Epoch 9/40\n",
            "256/256 [==============================] - 3s 12ms/step - loss: 0.0603 - accuracy: 0.9814 - val_loss: 0.1139 - val_accuracy: 0.9722\n",
            "Epoch 10/40\n",
            "256/256 [==============================] - 4s 14ms/step - loss: 0.0598 - accuracy: 0.9819 - val_loss: 0.1380 - val_accuracy: 0.9634\n",
            "Epoch 11/40\n",
            "256/256 [==============================] - 4s 17ms/step - loss: 0.0602 - accuracy: 0.9812 - val_loss: 0.1276 - val_accuracy: 0.9683\n",
            "Epoch 12/40\n",
            "256/256 [==============================] - 4s 15ms/step - loss: 0.0584 - accuracy: 0.9820 - val_loss: 0.1258 - val_accuracy: 0.9707\n",
            "Epoch 13/40\n",
            "256/256 [==============================] - 3s 13ms/step - loss: 0.0601 - accuracy: 0.9818 - val_loss: 0.1161 - val_accuracy: 0.9727\n",
            "Epoch 14/40\n",
            "256/256 [==============================] - 3s 13ms/step - loss: 0.0605 - accuracy: 0.9816 - val_loss: 0.1159 - val_accuracy: 0.9702\n",
            "Epoch 15/40\n",
            "256/256 [==============================] - 4s 16ms/step - loss: 0.0571 - accuracy: 0.9818 - val_loss: 0.1248 - val_accuracy: 0.9697\n",
            "Epoch 16/40\n",
            "256/256 [==============================] - 4s 14ms/step - loss: 0.0590 - accuracy: 0.9818 - val_loss: 0.1198 - val_accuracy: 0.9702\n",
            "Epoch 17/40\n",
            "256/256 [==============================] - 3s 14ms/step - loss: 0.0590 - accuracy: 0.9812 - val_loss: 0.1167 - val_accuracy: 0.9727\n",
            "Epoch 18/40\n",
            "256/256 [==============================] - 5s 18ms/step - loss: 0.0583 - accuracy: 0.9817 - val_loss: 0.1183 - val_accuracy: 0.9712\n",
            "Epoch 19/40\n",
            "256/256 [==============================] - 3s 14ms/step - loss: 0.0584 - accuracy: 0.9818 - val_loss: 0.1321 - val_accuracy: 0.9688\n",
            "Epoch 20/40\n",
            "256/256 [==============================] - 4s 14ms/step - loss: 0.0590 - accuracy: 0.9819 - val_loss: 0.1236 - val_accuracy: 0.9692\n",
            "Epoch 21/40\n",
            "256/256 [==============================] - 4s 15ms/step - loss: 0.0585 - accuracy: 0.9818 - val_loss: 0.1251 - val_accuracy: 0.9702\n",
            "Epoch 22/40\n",
            "256/256 [==============================] - 4s 17ms/step - loss: 0.0581 - accuracy: 0.9810 - val_loss: 0.1192 - val_accuracy: 0.9697\n",
            "Epoch 23/40\n",
            "256/256 [==============================] - 3s 13ms/step - loss: 0.0574 - accuracy: 0.9816 - val_loss: 0.1222 - val_accuracy: 0.9712\n",
            "Epoch 24/40\n",
            "256/256 [==============================] - 4s 14ms/step - loss: 0.0576 - accuracy: 0.9817 - val_loss: 0.1326 - val_accuracy: 0.9663\n",
            "Epoch 25/40\n",
            "256/256 [==============================] - 5s 18ms/step - loss: 0.0578 - accuracy: 0.9811 - val_loss: 0.1232 - val_accuracy: 0.9702\n",
            "Epoch 26/40\n",
            "256/256 [==============================] - 4s 15ms/step - loss: 0.0574 - accuracy: 0.9822 - val_loss: 0.1240 - val_accuracy: 0.9702\n",
            "Epoch 27/40\n",
            "256/256 [==============================] - 3s 13ms/step - loss: 0.0572 - accuracy: 0.9819 - val_loss: 0.1287 - val_accuracy: 0.9702\n",
            "Epoch 28/40\n",
            "256/256 [==============================] - 5s 20ms/step - loss: 0.0570 - accuracy: 0.9822 - val_loss: 0.1195 - val_accuracy: 0.9722\n",
            "Epoch 29/40\n",
            "256/256 [==============================] - 4s 14ms/step - loss: 0.0578 - accuracy: 0.9817 - val_loss: 0.1322 - val_accuracy: 0.9683\n",
            "Epoch 30/40\n",
            "256/256 [==============================] - 4s 15ms/step - loss: 0.0574 - accuracy: 0.9820 - val_loss: 0.1261 - val_accuracy: 0.9697\n",
            "Epoch 31/40\n",
            "256/256 [==============================] - 5s 18ms/step - loss: 0.0572 - accuracy: 0.9818 - val_loss: 0.1249 - val_accuracy: 0.9717\n",
            "Epoch 32/40\n",
            "256/256 [==============================] - 4s 15ms/step - loss: 0.0568 - accuracy: 0.9812 - val_loss: 0.1336 - val_accuracy: 0.9697\n",
            "Epoch 33/40\n",
            "256/256 [==============================] - 4s 15ms/step - loss: 0.0569 - accuracy: 0.9818 - val_loss: 0.1271 - val_accuracy: 0.9697\n",
            "Epoch 34/40\n",
            "256/256 [==============================] - 4s 17ms/step - loss: 0.0556 - accuracy: 0.9813 - val_loss: 0.1281 - val_accuracy: 0.9707\n",
            "Epoch 35/40\n",
            "256/256 [==============================] - 4s 15ms/step - loss: 0.0564 - accuracy: 0.9817 - val_loss: 0.1291 - val_accuracy: 0.9707\n",
            "Epoch 36/40\n",
            "256/256 [==============================] - 4s 14ms/step - loss: 0.0556 - accuracy: 0.9823 - val_loss: 0.1276 - val_accuracy: 0.9702\n",
            "Epoch 37/40\n",
            "256/256 [==============================] - 4s 14ms/step - loss: 0.0560 - accuracy: 0.9813 - val_loss: 0.1242 - val_accuracy: 0.9722\n",
            "Epoch 38/40\n",
            "256/256 [==============================] - 5s 18ms/step - loss: 0.0558 - accuracy: 0.9812 - val_loss: 0.1297 - val_accuracy: 0.9697\n",
            "Epoch 39/40\n",
            "256/256 [==============================] - 3s 13ms/step - loss: 0.0556 - accuracy: 0.9814 - val_loss: 0.1350 - val_accuracy: 0.9688\n",
            "Epoch 40/40\n",
            "256/256 [==============================] - 4s 14ms/step - loss: 0.0556 - accuracy: 0.9818 - val_loss: 0.1190 - val_accuracy: 0.9717\n"
          ]
        }
      ]
    },
    {
      "cell_type": "markdown",
      "source": [
        "### Model Evaluation"
      ],
      "metadata": {
        "id": "BGgl2tgWcTUn"
      }
    },
    {
      "cell_type": "code",
      "source": [
        "# Evaluate the model on the testing set\n",
        "loss, accuracy = model.evaluate(X_test, y_test)\n",
        "print(\"Testing Loss:\", loss)\n",
        "print(\"Accuracy:\", accuracy)"
      ],
      "metadata": {
        "colab": {
          "base_uri": "https://localhost:8080/"
        },
        "id": "g76PEik62aY1",
        "outputId": "6a579a47-cfa1-49bf-e92c-ef68d61bb58d"
      },
      "execution_count": 60,
      "outputs": [
        {
          "output_type": "stream",
          "name": "stdout",
          "text": [
            "64/64 [==============================] - 0s 4ms/step - loss: 0.1190 - accuracy: 0.9717\n",
            "Testing Loss: 0.11900372058153152\n",
            "Accuracy: 0.9716796875\n"
          ]
        }
      ]
    },
    {
      "cell_type": "markdown",
      "source": [
        "### Confusion Matrix"
      ],
      "metadata": {
        "id": "wv8hjwf6ckLJ"
      }
    },
    {
      "cell_type": "code",
      "source": [
        "#confusion matrix\n",
        "y_pred = model.predict(X_test)\n",
        "y_pred = np.argmax(y_pred, axis=1)\n",
        "\n",
        "# Decode the language labels\n",
        "y_test_decoded = label_encoder.inverse_transform(y_test)\n",
        "y_pred_decoded = label_encoder.inverse_transform(y_pred)\n",
        "\n",
        "# Print the confusion matrix\n",
        "print(confusion_matrix(y_test_decoded, y_pred_decoded))"
      ],
      "metadata": {
        "colab": {
          "base_uri": "https://localhost:8080/"
        },
        "id": "53O53qjc2Uub",
        "outputId": "fd934069-90e0-4bc4-fa00-0262946c57fe"
      },
      "execution_count": 61,
      "outputs": [
        {
          "output_type": "stream",
          "name": "stdout",
          "text": [
            "64/64 [==============================] - 0s 3ms/step\n",
            "[[104   0   0   0   0   0   0   0   0   0   0   0   4   0   0   0   0]\n",
            " [  0  83   0   0   0   1   0   0   0   0   0   0   1   1   0   0   0]\n",
            " [  0   0 106   0   0   0   0   0   0   0   0   0   1   0   0   0   0]\n",
            " [  0   0   1 278   1   2   0   0   0   0   0   0   0   1   1   0   0]\n",
            " [  0   0   1   0 183   0   0   0   0   0   0   0   0   1   0   0   0]\n",
            " [  0   0   0   0   0  94   0   0   0   0   0   0   3   0   0   0   0]\n",
            " [  0   0   0   0   0   0  71   0   0   0   0   0   1   0   0   0   0]\n",
            " [  0   0   0   0   0   0   0  11   0   0   0   0   1   0   0   0   1]\n",
            " [  0   0   0   1   0   1   0   0 136   0   0   0   0   0   0   0   0]\n",
            " [  0   0   0   0   0   0   0   0   0  69   0   0   3   0   0   0   0]\n",
            " [  0   0   0   0   0   0   0   0   0   0 131   0   3   0   0   0   0]\n",
            " [  0   0   0   0   1   0   0   0   0   0   0 141   1   4   0   0   0]\n",
            " [  0   0   0   0   1   0   0   0   0   0   0   0 149   0   0   0   0]\n",
            " [  0   0   0   1   2   0   0   0   0   0   0   1   2 148   0   0   0]\n",
            " [  0   2   0   1   0   1   0   0   0   0   0   0   4   0 117   0   0]\n",
            " [  0   0   0   0   0   0   0   0   0   0   0   0   2   0   0  80   0]\n",
            " [  0   0   0   0   0   0   0   0   0   0   0   0   4   1   0   0  89]]\n"
          ]
        }
      ]
    },
    {
      "cell_type": "code",
      "source": [
        "# Plotting a graph of the training process\n",
        "\n",
        "plt.plot(history.history['accuracy'], color ='green')\n",
        "plt.title('Model accuracy')\n",
        "plt.ylabel('Accuracy')\n",
        "plt.xlabel('Epoch')\n",
        "plt.legend(['Train'], loc='upper left')\n",
        "plt.show()\n"
      ],
      "metadata": {
        "colab": {
          "base_uri": "https://localhost:8080/",
          "height": 472
        },
        "id": "H2phV0YM5Aal",
        "outputId": "a62f6d59-b0a7-4158-ba0e-685ded1306d6"
      },
      "execution_count": 62,
      "outputs": [
        {
          "output_type": "display_data",
          "data": {
            "text/plain": [
              "<Figure size 640x480 with 1 Axes>"
            ],
            "image/png": "[encoded data removed]"
          },
          "metadata": {}
        }
      ]
    },
    {
      "cell_type": "markdown",
      "source": [
        "### Testing The Model"
      ],
      "metadata": {
        "id": "dHEpfW7Bd2kQ"
      }
    },
    {
      "cell_type": "code",
      "source": [
        "# Function to Predict A Language given a customer message\n",
        "\n",
        "def predict_language(customer_message):\n",
        "    msg = vectorizer.transform([customer_message]).toarray()\n",
        "\n",
        "    predicted_label = model.predict(msg)\n",
        "    predicted_label = np.argmax(predicted_label)\n",
        "\n",
        "    #Decode the predicted label to get the language\n",
        "    predicted_language = label_encoder.inverse_transform([predicted_label])\n",
        "\n",
        "    return predicted_language[0]"
      ],
      "metadata": {
        "id": "Ub_u18CN32iq"
      },
      "execution_count": 63,
      "outputs": []
    },
    {
      "cell_type": "code",
      "source": [
        "msg = input(\"Enter Your Message: \")\n",
        "\n",
        "predict_language(msg)"
      ],
      "metadata": {
        "colab": {
          "base_uri": "https://localhost:8080/",
          "height": 70
        },
        "id": "I0SOm4pS4AeL",
        "outputId": "97d23925-b5a2-4816-f13e-494b526b539f"
      },
      "execution_count": 67,
      "outputs": [
        {
          "output_type": "stream",
          "name": "stdout",
          "text": [
            "Enter Your Message: Hello. I look forward to the end of all these troubles. \n",
            "1/1 [==============================] - 0s 38ms/step\n"
          ]
        },
        {
          "output_type": "execute_result",
          "data": {
            "text/plain": [
              "'English'"
            ],
            "application/vnd.google.colaboratory.intrinsic+json": {
              "type": "string"
            }
          },
          "metadata": {},
          "execution_count": 67
        }
      ]
    },
    {
      "cell_type": "markdown",
      "source": [
        "### Gradio Interface"
      ],
      "metadata": {
        "id": "hqh3AKIMkOKf"
      }
    },
    {
      "cell_type": "code",
      "source": [
        "# installing gradio\n",
        "\n",
        "!pip install gradio -q\n"
      ],
      "metadata": {
        "colab": {
          "base_uri": "https://localhost:8080/"
        },
        "id": "EWvWsNmI44vq",
        "outputId": "7fe0dd8c-9031-4adf-fab1-c1e0c64df5c8"
      },
      "execution_count": 65,
      "outputs": [
        {
          "output_type": "stream",
          "name": "stdout",
          "text": [
            "\u001b[2K     \u001b[90m━━━━━━━━━━━━━━━━━━━━━━━━━━━━━━━━━━━━━━━━\u001b[0m \u001b[32m19.8/19.8 MB\u001b[0m \u001b[31m43.0 MB/s\u001b[0m eta \u001b[36m0:00:00\u001b[0m\n",
            "\u001b[2K     \u001b[90m━━━━━━━━━━━━━━━━━━━━━━━━━━━━━━━━━━━━━━━━\u001b[0m \u001b[32m65.7/65.7 kB\u001b[0m \u001b[31m6.3 MB/s\u001b[0m eta \u001b[36m0:00:00\u001b[0m\n",
            "\u001b[?25h  Preparing metadata (setup.py) ... \u001b[?25l\u001b[?25hdone\n",
            "\u001b[2K     \u001b[90m━━━━━━━━━━━━━━━━━━━━━━━━━━━━━━━━━━━━━━\u001b[0m \u001b[32m289.0/289.0 kB\u001b[0m \u001b[31m20.5 MB/s\u001b[0m eta \u001b[36m0:00:00\u001b[0m\n",
            "\u001b[2K     \u001b[90m━━━━━━━━━━━━━━━━━━━━━━━━━━━━━━━━━━━━━━━━\u001b[0m \u001b[32m75.4/75.4 kB\u001b[0m \u001b[31m6.9 MB/s\u001b[0m eta \u001b[36m0:00:00\u001b[0m\n",
            "\u001b[2K     \u001b[90m━━━━━━━━━━━━━━━━━━━━━━━━━━━━━━━━━━━━━━\u001b[0m \u001b[32m268.8/268.8 kB\u001b[0m \u001b[31m19.5 MB/s\u001b[0m eta \u001b[36m0:00:00\u001b[0m\n",
            "\u001b[2K     \u001b[90m━━━━━━━━━━━━━━━━━━━━━━━━━━━━━━━━━━━━━━━━\u001b[0m \u001b[32m50.5/50.5 kB\u001b[0m \u001b[31m4.6 MB/s\u001b[0m eta \u001b[36m0:00:00\u001b[0m\n",
            "\u001b[2K     \u001b[90m━━━━━━━━━━━━━━━━━━━━━━━━━━━━━━━━━━━━━━\u001b[0m \u001b[32m138.7/138.7 kB\u001b[0m \u001b[31m13.5 MB/s\u001b[0m eta \u001b[36m0:00:00\u001b[0m\n",
            "\u001b[2K     \u001b[90m━━━━━━━━━━━━━━━━━━━━━━━━━━━━━━━━━━━━━━━━\u001b[0m \u001b[32m45.7/45.7 kB\u001b[0m \u001b[31m4.1 MB/s\u001b[0m eta \u001b[36m0:00:00\u001b[0m\n",
            "\u001b[2K     \u001b[90m━━━━━━━━━━━━━━━━━━━━━━━━━━━━━━━━━━━━━━━━\u001b[0m \u001b[32m59.5/59.5 kB\u001b[0m \u001b[31m6.2 MB/s\u001b[0m eta \u001b[36m0:00:00\u001b[0m\n",
            "\u001b[2K     \u001b[90m━━━━━━━━━━━━━━━━━━━━━━━━━━━━━━━━━━━━━━\u001b[0m \u001b[32m129.9/129.9 kB\u001b[0m \u001b[31m13.1 MB/s\u001b[0m eta \u001b[36m0:00:00\u001b[0m\n",
            "\u001b[2K     \u001b[90m━━━━━━━━━━━━━━━━━━━━━━━━━━━━━━━━━━━━━━━━\u001b[0m \u001b[32m50.4/50.4 kB\u001b[0m \u001b[31m5.1 MB/s\u001b[0m eta \u001b[36m0:00:00\u001b[0m\n",
            "\u001b[2K     \u001b[90m━━━━━━━━━━━━━━━━━━━━━━━━━━━━━━━━━━━━━━━━\u001b[0m \u001b[32m46.5/46.5 kB\u001b[0m \u001b[31m5.3 MB/s\u001b[0m eta \u001b[36m0:00:00\u001b[0m\n",
            "\u001b[2K     \u001b[90m━━━━━━━━━━━━━━━━━━━━━━━━━━━━━━━━━━━━━━━━\u001b[0m \u001b[32m43.7/43.7 kB\u001b[0m \u001b[31m4.5 MB/s\u001b[0m eta \u001b[36m0:00:00\u001b[0m\n",
            "\u001b[2K     \u001b[90m━━━━━━━━━━━━━━━━━━━━━━━━━━━━━━━━━━━━━━━━\u001b[0m \u001b[32m41.0/41.0 kB\u001b[0m \u001b[31m4.1 MB/s\u001b[0m eta \u001b[36m0:00:00\u001b[0m\n",
            "\u001b[2K     \u001b[90m━━━━━━━━━━━━━━━━━━━━━━━━━━━━━━━━━━━━━━━━\u001b[0m \u001b[32m41.0/41.0 kB\u001b[0m \u001b[31m4.6 MB/s\u001b[0m eta \u001b[36m0:00:00\u001b[0m\n",
            "\u001b[2K     \u001b[90m━━━━━━━━━━━━━━━━━━━━━━━━━━━━━━━━━━━━━━━━\u001b[0m \u001b[32m87.5/87.5 kB\u001b[0m \u001b[31m10.2 MB/s\u001b[0m eta \u001b[36m0:00:00\u001b[0m\n",
            "\u001b[2K     \u001b[90m━━━━━━━━━━━━━━━━━━━━━━━━━━━━━━━━━━━━━━━━\u001b[0m \u001b[32m84.5/84.5 kB\u001b[0m \u001b[31m8.8 MB/s\u001b[0m eta \u001b[36m0:00:00\u001b[0m\n",
            "\u001b[2K     \u001b[90m━━━━━━━━━━━━━━━━━━━━━━━━━━━━━━━━━━━━━━━━\u001b[0m \u001b[32m58.3/58.3 kB\u001b[0m \u001b[31m5.3 MB/s\u001b[0m eta \u001b[36m0:00:00\u001b[0m\n",
            "\u001b[2K     \u001b[90m━━━━━━━━━━━━━━━━━━━━━━━━━━━━━━━━━━━━━━━━\u001b[0m \u001b[32m67.0/67.0 kB\u001b[0m \u001b[31m6.4 MB/s\u001b[0m eta \u001b[36m0:00:00\u001b[0m\n",
            "\u001b[2K     \u001b[90m━━━━━━━━━━━━━━━━━━━━━━━━━━━━━━━━━━━━━━━━\u001b[0m \u001b[32m74.5/74.5 kB\u001b[0m \u001b[31m7.4 MB/s\u001b[0m eta \u001b[36m0:00:00\u001b[0m\n",
            "\u001b[?25h  Building wheel for ffmpy (setup.py) ... \u001b[?25l\u001b[?25hdone\n"
          ]
        }
      ]
    },
    {
      "cell_type": "code",
      "source": [
        "import gradio as gr\n",
        "\n",
        "iface = gr.Interface(\n",
        "    fn=predict_language,\n",
        "    inputs=\"text\",\n",
        "    outputs=\"text\",\n",
        "    title=\"Leo Telecom Language Identification Service\",\n",
        "    description=\"Predicting the languages of different customer messages for easy 'routing'\"\n",
        ")\n",
        "\n",
        "# Launch the interface\n",
        "iface.launch(share=True)"
      ],
      "metadata": {
        "colab": {
          "base_uri": "https://localhost:8080/",
          "height": 610
        },
        "id": "QaItBh_T4SMJ",
        "outputId": "63c9ec3a-b0f6-48d8-fa40-d43cfbc85f28"
      },
      "execution_count": 66,
      "outputs": [
        {
          "output_type": "stream",
          "name": "stdout",
          "text": [
            "Colab notebook detected. To show errors in colab notebook, set debug=True in launch()\n",
            "Running on public URL: https://6722953658177a0b52.gradio.live\n",
            "\n",
            "This share link expires in 72 hours. For free permanent hosting and GPU upgrades, run `gradio deploy` from Terminal to deploy to Spaces (https://huggingface.co/spaces)\n"
          ]
        },
        {
          "output_type": "display_data",
          "data": {
            "text/plain": [
              "<IPython.core.display.HTML object>"
            ],
            "text/html": [
              "<div><iframe src=\"https://6722953658177a0b52.gradio.live\" width=\"100%\" height=\"500\" allow=\"autoplay; camera; microphone; clipboard-read; clipboard-write;\" frameborder=\"0\" allowfullscreen></iframe></div>"
            ]
          },
          "metadata": {}
        },
        {
          "output_type": "execute_result",
          "data": {
            "text/plain": []
          },
          "metadata": {},
          "execution_count": 66
        }
      ]
    },
    {
      "cell_type": "code",
      "source": [],
      "metadata": {
        "id": "NiYvTTHg4Ozw"
      },
      "execution_count": null,
      "outputs": []
    },
    {
      "cell_type": "code",
      "source": [],
      "metadata": {
        "id": "A_alxBzH4MII"
      },
      "execution_count": null,
      "outputs": []
    }
  ]
}